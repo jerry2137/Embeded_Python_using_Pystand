{
 "cells": [
  {
   "cell_type": "code",
   "execution_count": 3,
   "metadata": {},
   "outputs": [],
   "source": [
    "# py to exe\n",
    "# copy the Python file (and other files like config.json) to .\\_internal\n",
    "# add start() in the Python file\n",
    "\n",
    "# edit the path in pystand.int\n",
    "filename = 'test'\n",
    "!(echo from {filename} import start & echo if __name__ == \"__main__\":start(^)) > _internal\\pystand.int\n",
    "\n",
    "# copy necessary site-packages from this path to .\\_internal\\site-packages\n",
    "# C:\\Users\\jerry.wu\\AppData\\Local\\Packages\\PythonSoftwareFoundation.Python.3.12_qbz5n2kfra8p0\\LocalCache\\local-packages\\Python312\\site-packages"
   ]
  },
  {
   "cell_type": "code",
   "execution_count": null,
   "metadata": {
    "vscode": {
     "languageId": "bat"
    }
   },
   "outputs": [],
   "source": [
    "@REM optional\n",
    "@REM py to pyd using nuikta\n",
    "@REM paste in cmd under this folder\n",
    "@REM do not run it here\n",
    "\n",
    "set filename=set\n",
    "python -m venv %filename%_venv\n",
    "cd %filename%_venv/Scripts\n",
    "activate\n",
    "pip install nuitka\n",
    "cd ../..\n",
    "python -m nuitka --module --mingw64 --clang --remove-output --no-pyi-file  %filename%.py\n",
    "deactivate"
   ]
  },
  {
   "cell_type": "markdown",
   "metadata": {},
   "source": [
    "Click the shortcut to run the code.\n",
    "You can edit your Python file in non-python environment like Notepad.\n",
    "Run your code and run reducer.py at the same time, it can remove the useless file."
   ]
  }
 ],
 "metadata": {
  "kernelspec": {
   "display_name": "Python 3",
   "language": "python",
   "name": "python3"
  },
  "language_info": {
   "codemirror_mode": {
    "name": "ipython",
    "version": 3
   },
   "file_extension": ".py",
   "mimetype": "text/x-python",
   "name": "python",
   "nbconvert_exporter": "python",
   "pygments_lexer": "ipython3",
   "version": "3.12.5"
  }
 },
 "nbformat": 4,
 "nbformat_minor": 2
}
